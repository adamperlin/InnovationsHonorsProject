{
 "cells": [
  {
   "cell_type": "markdown",
   "metadata": {},
   "source": [
    "This is the first week of my machine learning honors project. It will primarily deal with the basics of machine learning, and the basics of TensorFlow. I have changed course a little bit from my original plan. I plan to do more applied ML work with TensorFlow, and focus a little less on the math and theory, because I think learning the library specifically will be more pragmatic, and will provide an example that will aid my understanding. "
   ]
  },
  {
   "cell_type": "markdown",
   "metadata": {},
   "source": [
    "Definition of computation is different than execution in tensorflow; i.e., you have to create the graph **before** you can execute it. "
   ]
  },
  {
   "cell_type": "code",
   "execution_count": 16,
   "metadata": {},
   "outputs": [],
   "source": [
    "# Very simple first tensorflow program. Does a very basic graph-based computation\n",
    "\n",
    "import tensorflow as tf\n",
    "\n",
    "n1 = tf.constant(2) \n",
    "n2 = tf.constant(3)\n",
    "\n",
    "result = tf.add(n1, n2)\n",
    "\n",
    "sess = tf.Session() \n",
    "\n",
    "# This had better not fail...\n",
    "assert(sess.run(result) == 5)\n"
   ]
  },
  {
   "cell_type": "code",
   "execution_count": 17,
   "metadata": {},
   "outputs": [
    {
     "name": "stdout",
     "output_type": "stream",
     "text": [
      "5\n"
     ]
    }
   ],
   "source": [
    "# This can also be output to a file, and inspected with TensorBoard\n",
    "# tensorflow.Session.graph == current graph of session\n",
    "\n",
    "writer = tf.summary.FileWriter('./graphs', sess.graph)\n",
    "print(sess.run(result))\n",
    "writer.close() \n",
    "\n",
    "sess.close()\n"
   ]
  },
  {
   "cell_type": "markdown",
   "metadata": {},
   "source": [
    "The below will run a tensorflow python script, and then run tensorboard after that process returns, allowing you to visualize the graph of computation. \n",
    "```\n",
    "$ python [script].py && tensorboard --logdir='./graphs' --port [port] \n",
    "```"
   ]
  },
  {
   "cell_type": "code",
   "execution_count": 18,
   "metadata": {},
   "outputs": [
    {
     "name": "stdout",
     "output_type": "stream",
     "text": [
      "30\n"
     ]
    }
   ],
   "source": [
    "# constants can be named\n",
    "\n",
    "n1 = tf.constant(10, name ='a')\n",
    "n2 = tf.constant(20, name='b')\n",
    "result = tf.add(n1, n2)\n",
    "\n",
    "sess = tf.Session() \n",
    "writer = tf.summary.FileWriter('./graphs', sess.graph)\n",
    "print(sess.run(result))\n",
    "writer.close() \n",
    "\n",
    "assert(sess.run(result) == 30)\n",
    "sess.close()"
   ]
  },
  {
   "cell_type": "markdown",
   "metadata": {},
   "source": [
    "# More Examples with Tensors and other data types"
   ]
  },
  {
   "cell_type": "code",
   "execution_count": 5,
   "metadata": {},
   "outputs": [],
   "source": [
    "zeros = tf.zeros([2, 3], tf.int32) # [[0,0,0], [0,0,0]]"
   ]
  },
  {
   "cell_type": "code",
   "execution_count": 6,
   "metadata": {
    "scrolled": true
   },
   "outputs": [],
   "source": [
    "fives = tf.fill([2,3], 5) # [[5,5,5], [5,5,5]]"
   ]
  },
  {
   "cell_type": "code",
   "execution_count": 7,
   "metadata": {},
   "outputs": [],
   "source": [
    "space = tf.linspace(1.0, 100.0, 40) "
   ]
  },
  {
   "cell_type": "code",
   "execution_count": 8,
   "metadata": {},
   "outputs": [
    {
     "name": "stdout",
     "output_type": "stream",
     "text": [
      "[   1.            3.53846145    6.07692289    8.6153841    11.15384579\n",
      "   13.69230747   16.2307682    18.76922989   21.30769157   23.84615326\n",
      "   26.38461494   28.92307663   31.46153641   34.           36.53845978\n",
      "   39.07692337   41.61538315   44.15384293   46.69230652   49.2307663\n",
      "   51.76922989   54.30768967   56.84615326   59.38461304   61.92307281\n",
      "   64.46153259   67.           69.53845978   72.07691956   74.61537933\n",
      "   77.15384674   79.69230652   82.2307663    84.76922607   87.30768585\n",
      "   89.84615326   92.38461304   94.92307281   97.46153259  100.        ]\n"
     ]
    }
   ],
   "source": [
    "with tf.Session() as sess:\n",
    "    print(sess.run(space))"
   ]
  },
  {
   "cell_type": "code",
   "execution_count": 9,
   "metadata": {},
   "outputs": [],
   "source": [
    "s = tf.reduce_sum(fives) # 5+5+5+5+5+5"
   ]
  },
  {
   "cell_type": "code",
   "execution_count": 10,
   "metadata": {},
   "outputs": [
    {
     "name": "stdout",
     "output_type": "stream",
     "text": [
      "30\n"
     ]
    }
   ],
   "source": [
    "with tf.Session() as sess: \n",
    "    print(sess.run(s))"
   ]
  },
  {
   "cell_type": "markdown",
   "metadata": {},
   "source": [
    "# Variables"
   ]
  },
  {
   "cell_type": "code",
   "execution_count": 24,
   "metadata": {},
   "outputs": [
    {
     "name": "stdout",
     "output_type": "stream",
     "text": [
      "[[0 1]\n",
      " [2 3]]\n",
      "400\n"
     ]
    }
   ],
   "source": [
    "v1 = tf.Variable(1, name=\"scalar\")\n",
    "v2 = tf.Variable([2, 10], name=\"vector\")\n",
    "\n",
    "m = tf.Variable([[0, 1],[2, 3]], name=\"matrix\")\n",
    "\n",
    "W = tf.Variable(tf.zeros([784, 10]))\n",
    "init = tf.global_variables_initializer() # MUST INITIALIZE VARIABLES\n",
    "with tf.Session() as sess:\n",
    "    sess.run(init)\n",
    "    print(sess.run(m))\n",
    "    \n",
    "init_1and2 = tf.variables_initializer([v1, v2], name=\"initvar1var2\")\n",
    "with tf.Session() as sess:\n",
    "    sess.run(init_1and2)\n",
    "    \n",
    "W = tf.Variable(5)\n",
    "assign = W.assign(100)\n",
    "\n",
    "times_two = W.assign(2 * W)\n",
    "with tf.Session() as sess:\n",
    "    sess.run(W.initializer)\n",
    "    sess.run(assign)\n",
    "    sess.run(times_two) # multipy by two once\n",
    "    sess.run(times_two) # multiply by two twice\n",
    "    print (W.eval())"
   ]
  },
  {
   "cell_type": "code",
   "execution_count": 30,
   "metadata": {},
   "outputs": [
    {
     "name": "stdout",
     "output_type": "stream",
     "text": [
      "[ 3.  6.  9.]\n"
     ]
    }
   ],
   "source": [
    "# Placeholders (vry important)\n",
    "\n",
    "# placeholder value that can be ASSIGNED to \n",
    "a = tf.placeholder(tf.float32, shape=[3])\n",
    "\n",
    "# constant matrix\n",
    "b = tf.placeholder(tf.float32, shape=[3])\n",
    "\n",
    "# this operation will work; one can add this constant and placeholder together\n",
    "# like any two python variables\n",
    "c = a + b # tf.add(a, b) would also work\n",
    "\n",
    "values = {a: [1,2,3], b: [2, 4, 6]}\n",
    "with tf.Session() as sess:\n",
    "    print(sess.run(c, feed_dict=values))\n"
   ]
  },
  {
   "cell_type": "code",
   "execution_count": 3,
   "metadata": {},
   "outputs": [],
   "source": [
    "import tensorflow as tf\n",
    "v1 = tf.Variable(10, name='v1')\n",
    "v2 = tf.Variable(20, name='v2')\n",
    "\n",
    "add = tf.add(v1, v2)\n",
    "\n",
    "# Normal loading\n",
    "\n",
    "with tf.Session() as sess:\n",
    "    sess.run(tf.global_variables_initializer())\n",
    "    writer = tf.summary.FileWriter('./graph/2', sess.graph)\n",
    "   \n",
    "    sess.run(add)\n",
    "    writer.close() \n",
    "    \n",
    "\n",
    "    \n",
    "\n"
   ]
  },
  {
   "cell_type": "code",
   "execution_count": 2,
   "metadata": {},
   "outputs": [],
   "source": [
    "# Lazy loading\n",
    "\n",
    "import tensorflow as tf\n",
    "v1 = tf.Variable(10, name='v1')\n",
    "v2 = tf.Variable(20, name='v2')\n",
    "\n",
    "add = tf.add(v1, v2)\n",
    "\n",
    "with tf.Session() as sess:\n",
    "    sess.run(tf.global_variables_initializer())\n",
    "    writer = tf.summary.FileWriter('./graph/1', sess.graph)\n",
    "    for _ in range(10):\n",
    "        sess.run(tf.add(v1, v2))\n",
    "    writer.close() \n",
    "\n"
   ]
  },
  {
   "cell_type": "code",
   "execution_count": null,
   "metadata": {},
   "outputs": [],
   "source": []
  }
 ],
 "metadata": {
  "kernelspec": {
   "display_name": "Python 3",
   "language": "python",
   "name": "python3"
  },
  "language_info": {
   "codemirror_mode": {
    "name": "ipython",
    "version": 3
   },
   "file_extension": ".py",
   "mimetype": "text/x-python",
   "name": "python",
   "nbconvert_exporter": "python",
   "pygments_lexer": "ipython3",
   "version": "3.6.3"
  }
 },
 "nbformat": 4,
 "nbformat_minor": 2
}
